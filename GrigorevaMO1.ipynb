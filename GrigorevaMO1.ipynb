{
 "cells": [
  {
   "cell_type": "code",
   "execution_count": 1,
   "id": "2e668408",
   "metadata": {},
   "outputs": [],
   "source": [
    "import numpy as np\n",
    "import matplotlib.pyplot as plt"
   ]
  },
  {
   "cell_type": "markdown",
   "id": "c77fffee",
   "metadata": {},
   "source": [
    "## Метод золотого сечение (метод нулевого порядка)"
   ]
  },
  {
   "cell_type": "code",
   "execution_count": 2,
   "id": "ee964c32",
   "metadata": {},
   "outputs": [],
   "source": [
    "def f(x):\n",
    "    return 2 + x**2 + x**(2/3) - np.log(1 + x**(2/3)) - 2*x*np.arctan(x**(1/3))\n",
    "def q(a, b):\n",
    "    return a + (3 - 5 ** 1 / 2) * ((b - a) / 2)\n",
    "def w(a, b):\n",
    "    return a + (5 ** 1 / 2 - 1) * ((b - a) / 2)"
   ]
  },
  {
   "cell_type": "code",
   "execution_count": 5,
   "id": "59c87f1d",
   "metadata": {},
   "outputs": [
    {
     "data": {
      "text/plain": [
       "(0.74200439453125, 1.6797013933267844)"
      ]
     },
     "execution_count": 5,
     "metadata": {},
     "output_type": "execute_result"
    }
   ],
   "source": [
    "def golden_section():\n",
    "    a = 0.5\n",
    "    b = 1\n",
    "    eps = 0.025\n",
    "\n",
    "    x1 = q(a, b)\n",
    "    x2 = w(a, b)\n",
    "\n",
    "    y1 = f(x1)\n",
    "    y2 = f(x2)\n",
    "\n",
    "    while b - a >= eps:\n",
    "        if y1 < y2:\n",
    "            b = x2\n",
    "            x2 = x1\n",
    "            y2 = y1 \n",
    "            x1 = q(a, b)\n",
    "            y1 = f(x1)\n",
    "        else:\n",
    "            a = x1\n",
    "            x1 = x2\n",
    "            y1 = y2 \n",
    "            x2 = w(a, b)\n",
    "            y2 = f(x2)\n",
    "    if y1 < y2:\n",
    "        xx = x1 \n",
    "        yy = y1\n",
    "    else:\n",
    "        xx = x2 \n",
    "        yy = y1\n",
    "    return xx, yy\n",
    "golden_section()"
   ]
  },
  {
   "cell_type": "code",
   "execution_count": 6,
   "id": "1034309a",
   "metadata": {},
   "outputs": [
    {
     "data": {
      "text/plain": [
       "Text(0, 0.5, 'y')"
      ]
     },
     "execution_count": 6,
     "metadata": {},
     "output_type": "execute_result"
    },
    {
     "data": {
      "image/png": "[encoded data removed]",
      "text/plain": [
       "<Figure size 504x360 with 1 Axes>"
      ]
     },
     "metadata": {
      "needs_background": "light"
     },
     "output_type": "display_data"
    }
   ],
   "source": [
    "a = 0.5\n",
    "b = 1\n",
    "\n",
    "fig, ax = plt.subplots(figsize=(7, 5))\n",
    "x = np.linspace(a, b, 100)\n",
    "y = f(x)\n",
    "\n",
    "ax.plot(x, y)\n",
    "ax.plot(golden_section()[0], golden_section()[1], 'o')\n",
    "ax.set_xlabel('x')\n",
    "ax.set_ylabel('y')"
   ]
  },
  {
   "cell_type": "code",
   "execution_count": null,
   "id": "b22657da",
   "metadata": {},
   "outputs": [],
   "source": []
  }
 ],
 "metadata": {
  "kernelspec": {
   "display_name": "Python 3 (ipykernel)",
   "language": "python",
   "name": "python3"
  },
  "language_info": {
   "codemirror_mode": {
    "name": "ipython",
    "version": 3
   },
   "file_extension": ".py",
   "mimetype": "text/x-python",
   "name": "python",
   "nbconvert_exporter": "python",
   "pygments_lexer": "ipython3",
   "version": "3.10.5"
  }
 },
 "nbformat": 4,
 "nbformat_minor": 5
}
