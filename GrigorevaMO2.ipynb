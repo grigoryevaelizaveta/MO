{
 "cells": [
  {
   "cell_type": "markdown",
   "id": "29e0634a",
   "metadata": {},
   "source": [
    "# Метод Ньютона\n"
   ]
  },
  {
   "cell_type": "code",
   "execution_count": null,
   "id": "a1cef0da",
   "metadata": {},
   "outputs": [],
   "source": []
  },
  {
   "cell_type": "code",
   "execution_count": 14,
   "id": "2deafee6",
   "metadata": {},
   "outputs": [],
   "source": [
    "import numpy as np\n",
    "import matplotlib.pyplot as plt"
   ]
  },
  {
   "cell_type": "code",
   "execution_count": 23,
   "id": "98334530",
   "metadata": {},
   "outputs": [],
   "source": [
    "def f(x):\n",
    "    return x[0] ** 4 + 2 * x[1] ** 2 + x[0] ** 2 * x[1] ** 2 + 2 * x[0] + x[1]\n",
    "\n",
    "# f'(x)\n",
    "def f_grad(x):\n",
    "    return np.array([4 * x[0] ** 3 + 2 * x[0] * x[1] ** 2 + 2, \n",
    "                     4 * x[1] + 2 * x[0] ** 2 * x[1] + 1])\n",
    "\n",
    "# f''(x)\n",
    "def f_hess(x):\n",
    "    return np.array([[12 * x[0] ** 2 + 2 * x[1] ** 2,\n",
    "                      4 * x[1] * x[0]],\n",
    "                     [4 * x[0] * x[1],\n",
    "                      4 + 2 * x[0] ** 2]])"
   ]
  },
  {
   "cell_type": "code",
   "execution_count": 24,
   "id": "721d309e",
   "metadata": {},
   "outputs": [],
   "source": [
    "def Newton(f, x0, epsilon):\n",
    "    # возвращает массив иксов и массив значений функции на всех итерациях\n",
    "    \n",
    "    x1 = x0 - np.dot(np.linalg.inv(f_hess(x0)), f_grad(x0))\n",
    "    f0 = f(x0)\n",
    "    f1 = f(x1)\n",
    "    \n",
    "    x_min_arr = np.vstack([x0, x1])\n",
    "    f_min_arr = np.array([f0, f1])\n",
    "    \n",
    "    while np.linalg.norm(x0 - x1) > epsilon:\n",
    "        x0 = x1\n",
    "        x1 = x0 - np.dot(np.linalg.inv(f_hess(x0)), f_grad(x0))\n",
    "        f0 = f(x0)\n",
    "        f1 = f(x1)\n",
    "        x_min_arr = np.vstack([x_min_arr, x1])\n",
    "        f_min_arr = np.append(f_min_arr, f1)\n",
    "        \n",
    "    return x_min_arr, f_min_arr  "
   ]
  },
  {
   "cell_type": "code",
   "execution_count": 36,
   "id": "210315e9",
   "metadata": {
    "scrolled": false
   },
   "outputs": [
    {
     "name": "stdout",
     "output_type": "stream",
     "text": [
      "Итерации нахождения минимума с начальным приближением в точке x = [0.45 0.35] и epsilon = 1e-05\n",
      "iter 0: x = [0.45 0.35], f = 1.5608125\n",
      "iter 1: x = [-0.36675595 -0.11020289], f = -0.7996989452402077\n",
      "iter 2: x = [-1.45339668 -0.19309409], f = 1.5155161880744143\n",
      "iter 3: x = [-1.04545727 -0.17726312], f = -0.9763821092797742\n",
      "iter 4: x = [-0.84493514 -0.18568557], f = -1.2723072184748443\n",
      "iter 5: x = [-0.79002645 -0.19058424], f = -1.285769160570753\n",
      "iter 6: x = [-0.7860605 -0.1909936], f = -1.2858282911440562\n",
      "iter 7: x = [-0.78604058 -0.19099571], f = -1.2858282926162068\n",
      "iter 8: x = [-0.78604058 -0.19099571], f = -1.2858282926162068\n",
      "\n",
      "Итерации нахождения минимума с начальным приближением в точке x = [0.2 0.1] и epsilon = 1e-05\n",
      "iter 0: x = [0.2 0.1], f = 0.522\n",
      "iter 1: x = [-3.82942565 -0.16608969], f = 207.68234613478472\n",
      "iter 2: x = [-2.56408289 -0.12659168], f = 38.106980297863984\n",
      "iter 3: x = [-1.73412406 -0.12114907], f = 5.527262949479894\n",
      "iter 4: x = [-1.20999286 -0.14383864], f = -0.3486158182898849\n",
      "iter 5: x = [-0.9171529 -0.1737643], f = -1.2147177035007426\n",
      "iter 6: x = [-0.8038201  -0.18869812], f = -1.2846379546687499\n",
      "iter 7: x = [-0.78642811 -0.19094928], f = -1.2858277353804628\n",
      "iter 8: x = [-0.78604077 -0.19099569], f = -1.2858282926160738\n",
      "iter 9: x = [-0.78604058 -0.19099571], f = -1.2858282926162068\n",
      "\n",
      "Итерации нахождения минимума с начальным приближением в точке x = [ 0.45 -0.05] и epsilon = 1e-05\n",
      "iter 0: x = [ 0.45 -0.05], f = 0.8965124999999999\n",
      "iter 1: x = [-0.52925339 -0.2470222 ], f = -1.0879356539076697\n",
      "iter 2: x = [-0.92562157 -0.17383368], f = -1.204686467263128\n",
      "iter 3: x = [-0.805953   -0.18850287], f = -1.28433266393126\n",
      "iter 4: x = [-0.78652499 -0.19093855], f = -1.2858274218799117\n",
      "iter 5: x = [-0.78604088 -0.19099568], f = -1.2858282926158822\n",
      "iter 6: x = [-0.78604058 -0.19099571], f = -1.285828292616207\n",
      "\n"
     ]
    },
    {
     "data": {
      "image/png": "[encoded data removed]",
      "text/plain": [
       "<Figure size 720x504 with 2 Axes>"
      ]
     },
     "metadata": {
      "needs_background": "light"
     },
     "output_type": "display_data"
    }
   ],
   "source": [
    "x0 = np.array([[0.45, 0.35], [0.2, 0.1], [0.45, -0.05]])   # начальные приближения\n",
    "epsilon = 0.00001\n",
    "\n",
    "xx = np.linspace(-4, 2, 100)\n",
    "yy = np.linspace(-0.4, 0.4, 100)\n",
    "\n",
    "X, Y = np.meshgrid(xx, yy)\n",
    "Z = f([X, Y])\n",
    "\n",
    "plt.figure(figsize=(10, 7))\n",
    "plt.contourf(X, Y, Z, cmap='summer')\n",
    "plt.colorbar()\n",
    "plt.title('Contour plot for f($x_{1}$, $x_{2}$)', fontsize=16)\n",
    "plt.xlabel('$x_{1}$', fontsize=15)\n",
    "plt.ylabel('$x_{2}$', fontsize=15)\n",
    "\n",
    "for init_appr in x0:\n",
    "    x_min_arr, f_min_arr = Newton(f, init_appr, epsilon)\n",
    "    plt.plot(x_min_arr[:, 0], x_min_arr[:, 1], 'ko-', markersize=5)\n",
    "    print(f'Итерации нахождения минимума с начальным приближением в точке x = {init_appr} и epsilon = {epsilon}')\n",
    "    for i in range(x_min_arr.shape[0]):\n",
    "        print(f'iter {i}: x = {x_min_arr[i]}, f = {f_min_arr[i]}')\n",
    "    print()"
   ]
  },
  {
   "cell_type": "code",
   "execution_count": null,
   "id": "63f4297a",
   "metadata": {},
   "outputs": [],
   "source": []
  }
 ],
 "metadata": {
  "kernelspec": {
   "display_name": "Python 3 (ipykernel)",
   "language": "python",
   "name": "python3"
  },
  "language_info": {
   "codemirror_mode": {
    "name": "ipython",
    "version": 3
   },
   "file_extension": ".py",
   "mimetype": "text/x-python",
   "name": "python",
   "nbconvert_exporter": "python",
   "pygments_lexer": "ipython3",
   "version": "3.10.5"
  }
 },
 "nbformat": 4,
 "nbformat_minor": 5
}
